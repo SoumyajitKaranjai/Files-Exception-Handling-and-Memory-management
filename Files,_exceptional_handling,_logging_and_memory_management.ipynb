{
  "nbformat": 4,
  "nbformat_minor": 0,
  "metadata": {
    "colab": {
      "provenance": []
    },
    "kernelspec": {
      "name": "python3",
      "display_name": "Python 3"
    },
    "language_info": {
      "name": "python"
    }
  },
  "cells": [
    {
      "cell_type": "markdown",
      "source": [
        "1.What is the difference between interpreted and compiled languages?\n",
        "\n",
        "**Compiled Language:-**\n",
        "\n",
        "*   Entire source code is converted into machine code before execution.\n",
        "*   Generally faster because code runs directly on the CPU.\n",
        "*   Requires a separate compilation step before running.\n",
        "*   Produces platform-specific executables.\n",
        "\n",
        "\n",
        "*   Errors found at compile time; debugging may be more complex.\n",
        "*   Example:C, C++\n",
        "\n",
        "**Interpreted Language:-**\n",
        "\n",
        "\n",
        "\n",
        "*   Code is read and executed line by line at runtime.\n",
        "*   Generally slower due to real-time interpretation.\n",
        "*  Can be run and tested immediately without compilation.\n",
        "*  Code can run on any platform with the appropriate interpreter.\n",
        "\n",
        "\n",
        "*   Errors found at runtime; often easier to debug.\n",
        "*   Example:Python, JavaScript, Ruby, PHP\n",
        "\n",
        "2.What is exception handling in Python?\n",
        "\n",
        "\n",
        "\n",
        "*   Exception handling in Python is a mechanism that allows you to manage errors that occur during the execution of a program, preventing the program from crashing and enabling you to provide alternative actions or informative messages when something goes wrong.\n",
        "\n",
        "The main tool for exception handling in Python is the try...except block:\n",
        "\n",
        "a.The try block contains code that might raise an exception.\n",
        "\n",
        "b. If an exception occurs, the code in the except block is executed, allowing you to handle the error gracefully instead of terminating the program.\n",
        "*   Syntax:\n",
        "\n",
        " try:\n",
        "    \n",
        "     code that may cause an exception\n",
        "\n",
        "\n",
        "except ExceptionType:\n",
        "    \n",
        "        code to handle the exception\n",
        "\n",
        "\n",
        "3.What is the purpose of the finally block in exception handling?\n",
        "\n",
        "\n",
        "\n",
        "*   The purpose of the finally block in Python exception handling is to ensure that a specific section of code is always executed, regardless of whether an exception was raised or handled in the try or except blocks. This makes it ideal for performing cleanup actions such as closing files, releasing resources, or resetting states, which must happen no matter what.\n",
        "\n",
        "4.What is logging in Python?\n",
        "\n",
        "\n",
        "\n",
        "*   Logging in Python refers to the process of recording messages that describe events occurring while a program runs. This is accomplished using Python's built-in logging module, which provides a flexible framework for capturing, formatting, and directing log messages to various outputs such as the console, files, or external systems.\n",
        "\n",
        "5.What is the significance of the __del__ method in Python?\n",
        "\n",
        "\n",
        "\n",
        "*   The __del__ method in Python is a dunder/special/magic method known as a destructor. Its significance is to define actions that should be performed just before an object is destroyed by Python’s garbage collector. This typically includes releasing external resources such as file handles, network connections, or database connections that the object may be holding.\n",
        "\n",
        "6.What is the difference between import and from ... import in Python?\n",
        "\n",
        "\n",
        "   **Import Module:-**\n",
        "\n",
        "\n",
        "\n",
        "*   Imports the entire module.\n",
        "*   You must use the module name as a prefix to access its functions, classes, or variables.\n",
        "\n",
        "Example:\n",
        "\n",
        "import math\n",
        "\n",
        "result = math.sqrt(16)\n",
        "\n",
        "\n",
        "**from module import name:-**\n",
        "\n",
        "\n",
        "\n",
        "*   Imports specific members (functions, classes, variables) from a module directly into your current namespace.\n",
        "*   You can use the imported names directly, without the module prefix.\n",
        "\n",
        "Example:\n",
        "\n",
        "from math import sqrt\n",
        "\n",
        "result = sqrt(16)\n",
        "\n",
        "7.How can you handle multiple exceptions in Python?\n",
        "\n",
        "You can handle multiple exceptions in Python using the try...except statement in two primary ways:\n",
        "\n",
        "*   Catching multiple exceptions in a single except block:\n",
        "List the exception types as a tuple inside parentheses. If any of the listed exceptions is raised, the same block of code will handle it.\n",
        "\n",
        "Example:\n",
        "\n",
        "try:\n",
        "    \n",
        "     code that may raise multiple exceptions\n",
        "    \n",
        "     x = 1 / 0\n",
        "\n",
        "except (ZeroDivisionError, KeyError, TypeError) as e:\n",
        "    \n",
        "     print(f\"Caught an exception: {e}\")\n",
        "\n",
        "*   Using multiple except blocks:\n",
        "\n",
        "Write separate except clauses for each exception type if you want to handle them differently.\n",
        "\n",
        "Example:\n",
        "\n",
        "try:\n",
        "    \n",
        "     code that may raise different exceptions\n",
        "   \n",
        "    value = int(input())\n",
        "    result = 10 / value\n",
        "except ValueError:\n",
        "    \n",
        "    print(\"Invalid input.\")\n",
        "except ZeroDivisionError:\n",
        "   \n",
        "    print(\"Cannot divide by zero.\")\n",
        "\n",
        "    \n",
        "\n",
        "8.What is the purpose of the with statement when handling files in Python?\n",
        "\n",
        "\n",
        "\n",
        "*   The purpose of the with statement when handling files in Python is to ensure that files are properly and automatically closed after their suite finishes, regardless of whether an exception occurs during file operations. This simplifies resource management and makes your code safer and more readable.\n",
        "\n",
        "9.What is the difference between multithreading and multiprocessing?\n",
        "\n",
        "**Multithreading:-**\n",
        "\n",
        "\n",
        "\n",
        "*   Runs multiple threads within a single process.\n",
        "*   Threads share the same memory space.\n",
        "*   I/O-bound tasks.\n",
        "*   Achieves concurrency.\n",
        "*   Subject to the Global Interpreter Lock (GIL), so only one thread runs at once.\n",
        "\n",
        "**Multiprocessing:-**\n",
        "\n",
        "\n",
        "*   Runs multiple processes, each with its own Python interpreter.\n",
        "*  Processes have separate **memory** spaces.\n",
        "*   CPU-bound tasks.\n",
        "*   Achieves true parallelism (tasks actually run at the same time).\n",
        "*  Each process has its own GIL, so multiple processes can run in parallel.\n",
        "\n",
        "10.What are the advantages of using logging in a program?\n",
        "\n",
        "Advantages of using logging in a program are as follows-\n",
        "\n",
        "a. Error Detection and Debugging: Logging captures error messages, stack traces, and contextual information, making it easier to identify, diagnose, and trace the root cause of issues during development and after deployment.\n",
        "\n",
        "b. Monitoring and Performance Insights: By logging events, warnings, and performance metrics (such as response times or resource usage), developers can monitor application behavior and spot bottlenecks or anomalies, often before they impact users.\n",
        "\n",
        "c. Audit and Compliance: Logging provides an audit trail of important events, user actions, and system changes, which is essential for meeting regulatory requirements and ensuring accountability in sensitive environments.\n",
        "\n",
        "d. Reduced Incident Response Time: Well-placed log statements with contextual details (timestamps, variable values, etc.) help quickly pinpoint problems, reducing the time needed to investigate and resolve incidents.\n",
        "\n",
        "e. Historical Analysis and Trend Detection: Logs can be analyzed to reveal patterns, trends, and recurring issues, supporting long-term improvements and proactive maintenance.\n",
        "\n",
        "f. Customizable and Flexible: Python’s logging module allows fine-grained control over log levels, formatting, and output destinations (console, files, email, remote servers), making it adaptable to various development and production needs.\n",
        "\n",
        "g. Structured Alerting: Logging can be integrated with alerting systems to notify developers or teams when critical issues or thresholds are reached, enabling faster response to serious problems.\n",
        "\n",
        "h. Centralized Management: Multiple modules and components can use the same logging framework, allowing for unified and centralized log management across an entire application.\n",
        "\n",
        "11.What is memory management in Python?\n",
        "\n",
        "\n",
        "\n",
        "*   Memory management in Python refers to the process by which Python allocates, tracks, and frees memory used by programs to ensure efficient use of system resources and prevent memory leaks or crashes.\n",
        "\n",
        "12.What are the basic steps involved in exception handling in Python?\n",
        "\n",
        "a.Identify Code That May Cause an Exception:\n",
        "Place the code that might raise an error inside a try block. This is where you anticipate potential problems, such as dividing by zero or accessing an undefined variable.\n",
        "\n",
        "b.Handle Exceptions with except:\n",
        "Add one or more except blocks after the try block to specify how to handle different types of exceptions. If an exception occurs in the try block, Python jumps to the first matching except block and executes its code.\n",
        "\n",
        "Optional: Use the else Block:\n",
        "You can add an else block after all except blocks. The code in the else block runs only if no exceptions were raised in the try block.\n",
        "\n",
        "Optional: Use the finally Block:\n",
        "The finally block, if present, will always execute after the try and except blocks, regardless of whether an exception was raised. It's typically used for cleanup actions, like closing files or releasing resources.\n",
        "\n",
        "13.Why is memory management important in Python?\n",
        "\n",
        "a. Prevents Memory Leaks: Good memory management automatically frees unused memory, preventing memory leaks that can cause an application’s memory usage to grow uncontrollably and eventually lead to crashes or degraded performance.\n",
        "\n",
        "b. Optimizes Resource Utilization: Efficient memory allocation and deallocation ensure that applications have the resources they need to operate smoothly, allowing the system to run multiple programs without running out of memory.\n",
        "\n",
        "c. Improves Application Performance: By continuously releasing and allocating memory, programs can execute faster and respond more quickly, as they always have access to the memory they need.\n",
        "\n",
        "d.Supports Large Data Handling: In fields like data science and machine learning, efficient memory management is essential for processing large datasets without exhausting system memory.\n",
        "\n",
        "e. Enhances System Stability: Proper memory management reduces the risk of random crashes and shutdowns by ensuring that memory is allocated and released correctly, contributing to overall system reliability.\n",
        "\n",
        "f. Reduces Debugging and Maintenance Burden: By preventing issues like memory leaks and excessive memory consumption, developers spend less time troubleshooting and more time building features.\n",
        "\n",
        "g. Automatic and Developer-Friendly: Python’s automatic memory management (via reference counting and garbage collection) makes it easier for developers, especially beginners, to write robust code without manually managing memory, but understanding it helps in writing more efficient and scalable applications.\n",
        "\n",
        "14.What is the role of try and except in exception handling?\n",
        "\n",
        "The role of try and except in exception handling in Python is to allow your program to test code for errors and handle those errors gracefully without crashing the program.\n",
        "\n",
        " a.  The try block is used to wrap code that might raise an exception. Python executes the code inside the try block and monitors it for errors.\n",
        "\n",
        "b.   If an error (exception) occurs while executing the try block, Python immediately stops executing the rest of the try block and jumps to the corresponding except block.\n",
        "\n",
        "c.   The except block contains code that specifies how to respond to the exception. This could be logging the error, displaying a user-friendly message, or taking corrective action, allowing the program to continue running instead of terminating abruptly.\n",
        "\n",
        "15.How does Python's garbage collection system work?\n",
        "\n",
        "Python’s garbage collection system automatically manages memory by reclaiming space used by objects that are no longer needed, ensuring efficient memory use and reducing memory leaks.\n",
        "\n",
        "How it works:\n",
        "\n",
        "**Reference Counting:**\n",
        "Each object in Python maintains a reference count, which tracks how many references point to it. When the reference count drops to zero (meaning no part of the program can access the object), Python immediately deallocates the object’s memory.\n",
        "\n",
        "**Generational Garbage Collection:**\n",
        "Reference counting alone cannot handle cyclic references (when objects reference each other, forming a loop). Python’s garbage collector supplements reference counting with a generational garbage collection algorithm.\n",
        "\n",
        "a. Objects are grouped into “generations” based on their age.\n",
        "\n",
        "b. Younger generations are collected more frequently, as they are more likely to become unreachable quickly.\n",
        "\n",
        "c. The collector periodically scans for cycles and removes objects that are no longer accessible, even if their reference count is not zero due to cycles.\n",
        "\n",
        "**Cycle Detection:**\n",
        "The garbage collector traverses the object graph, marking objects that are still accessible from program roots (like global variables or stack frames). Unmarked objects—those not reachable from any root—are considered garbage and are deallocated.\n",
        "\n",
        "**Automatic and Manual Collection:**\n",
        "The garbage collector runs automatically, but you can also trigger it manually (for example, in memory-intensive or long-running applications) using the gc.collect() function from the gc module.\n",
        "\n",
        "**Thresholds and Tuning:**\n",
        "The frequency of garbage collection is determined by thresholds, which are based on the number of allocations and deallocations. When the number of allocations minus deallocations exceeds a certain threshold, the collector runs.\n",
        "\n",
        "16.What is the purpose of the else block in exception handling?\n",
        "\n",
        "\n",
        "\n",
        "*   The purpose of the else block in exception handling is to specify code that should run only if no exceptions were raised in the try block. If the code in the try block executes successfully without triggering any exceptions, the else block is executed immediately after. If an exception occurs and is handled by an except block, the else block is skipped.\n",
        "\n",
        "17.What are the common logging levels in Python?\n",
        "\n",
        "\n",
        "\n",
        "*   NOTSET (0): Indicates that no specific logging level has been set. Used mainly as a placeholder or to delegate level decisions to parent loggers.\n",
        "*   DEBUG (10): Used for detailed diagnostic information, typically valuable only during development and debugging.\n",
        "\n",
        "\n",
        "*  INFO (20): Used to log general information about program execution, confirming that things are working as expected.\n",
        "*  WARNING (30): Indicates a potential problem or unexpected situation that does not prevent the program from working but may require attention.\n",
        "*   ERROR (40): Logs errors that cause part of the program to fail or behave incorrectly.\n",
        "*   CRITICAL (50): Used for very serious errors, indicating that the program itself may not be able to continue running.\n",
        "\n",
        "18.What is the difference between os.fork() and multiprocessing in Python?\n",
        "\n",
        "**os.fork():**\n",
        "\n",
        "\n",
        "\n",
        "*   Directly creates a child process as a copy of the parent.\n",
        "*   Unix/Linux only (not available on Windows).\n",
        "*   Child inherits the parent’s memory space at the moment of fork.\n",
        "*   Low-level, requires manual management of processes and communication.\n",
        "*   No built-in support for process pools, queues, or pipes.\n",
        "\n",
        "**Multiprocessing**:\n",
        "\n",
        "\n",
        "\n",
        "*   Provides a high-level API for process-based parallelism.\n",
        "*   Cross-platform (works on Windows, macOS, Linux).\n",
        "*   Can use different start methods (fork, spawn, forkserver) depending on the OS.\n",
        "*   High-level, easier to manage processes, communication, and synchronization.\n",
        "*   Built-in support for process pools, queues, pipes, and shared memory.\n",
        "\n",
        "19.What is the importance of closing a file in Python?\n",
        "\n",
        "*   Free system resources promptly.\n",
        "*   Guarantee that all data is saved correctly.\n",
        "*   Prevent file corruption and access conflicts.\n",
        "*   Maintain application stability and performance.\n",
        "\n",
        "20.What is the difference between file.read() and file.readline() in Python?\n",
        "\n",
        "**file.read():**\n",
        "*   Reads the entire contents of the file (or a specified number of bytes if an argument is given) into a single string.\n",
        "*   Useful when you want to process the whole file at once.\n",
        "\n",
        "**file.readline():**\n",
        "\n",
        "*  Reads one line at a time from the file, returning it as a string (including the newline character at the end, unless it’s the last line).\n",
        "*  Useful for processing large files line by line, as it does not load the entire file into memory.\n",
        "*   You can call readline() repeatedly to get each subsequent line.\n",
        "\n",
        "21.What is the logging module in Python used for?\n",
        "\n",
        "a. Debugging and Monitoring: Helps developers debug, troubleshoot, and monitor application behavior by recording detailed information about errors, warnings, and other significant events.\n",
        "\n",
        "b. Customizable Output: Allows configuration of log message formats (including timestamps, severity levels, and logger names) and destinations through loggers, handlers, and formatters.\n",
        "\n",
        "c. Severity Levels: Supports multiple logging levels, enabling selective capture and filtering of messages based on their importance.\n",
        "\n",
        "d. Modular and Scalable: Enables the creation of multiple loggers for different parts of an application, supporting hierarchical organization and advanced filtering.\n",
        "\n",
        "e. Contextual Information: Supports adding contextual details (like user IDs or session IDs) to log messages for better traceability.\n",
        "\n",
        "22.What is the os module in Python used for in file handling?\n",
        "\n",
        "The os module in Python is used for interacting with the operating system to perform low-level file and directory operations that go beyond standard file reading and writing. In the context of file handling, its main purposes include:\n",
        "\n",
        "a. Creating, deleting, and renaming files: You can use functions like os.remove() to delete files and os.rename() to rename them.\n",
        "\n",
        "b. Managing directories: The module allows you to create (os.mkdir()), delete (os.rmdir()), and list (os.listdir()) directories, as well as navigate the file system (os.chdir() to change the working directory, os.getcwd() to get the current working directory).\n",
        "\n",
        "c. Working with file paths: The os and os.path submodules help in constructing, splitting, and normalizing file paths, making code portable across different operating systems.\n",
        "\n",
        "d. Checking file properties: You can check if a file exists (os.path.exists()), get its size (os.path.getsize()), and inspect permissions or other metadata.\n",
        "\n",
        "e. Low-level file operations: Functions like os.open(), os.read(), os.write(), and os.close() allow you to work with file descriptors for more granular control over file I/O, such as specifying access modes and working with binary data.\n",
        "\n",
        "f. File permissions and environment variables: The module enables changing file permissions and accessing or modifying environment variable.\n",
        "\n",
        "23.What are the challenges associated with memory management in Python?\n",
        "\n",
        "a. Unnecessary Object Creation: Creating too many objects, especially large or temporary ones, increases memory usage and puts strain on Python’s garbage collector. This can lead to inefficient memory consumption and performance bottlenecks, particularly in memory-intensive applications.\n",
        "\n",
        "b. Circular References: When objects reference each other in a cycle, their reference counts never reach zero, preventing automatic cleanup by reference counting alone. While Python’s cyclic garbage collector can detect and clean up these cycles, managing and breaking them (e.g., with weak references) is still a challenge for developers.\n",
        "\n",
        "c. Memory Leaks: Lingering references to large objects or data structures that are not released can cause memory leaks. This is especially problematic in long-running applications, where even small leaks can accumulate and eventually result in crashes or degraded performance.\n",
        "\n",
        "d. Garbage Collector Overhead: Frequent garbage collection cycles, especially in applications that create and destroy many objects rapidly, can introduce performance slowdowns. In high-performance or real-time systems, this overhead may be significant, requiring careful tuning or manual control of garbage collection.\n",
        "\n",
        "e. Limited Control: Python abstracts away most memory management details, giving developers little direct control over when and how memory is allocated or released. This can make it harder to optimize memory usage compared to languages with manual memory management.\n",
        "\n",
        "f. Fragmentation and Retained Memory: The Python interpreter may not always return freed memory to the operating system, especially for small objects. This can result in a bloated memory footprint even after objects are deleted, as the memory remains reserved for reuse by the interpreter rather than being released back to the OS.\n",
        "\n",
        "g. Third-Party Library Issues: Some Python libraries, such as pandas, have been known to cause memory leaks or excessive memory usage due to lingering objects or inefficient data structures. Monitoring and managing memory when using such libraries is an additional challenge.\n",
        "\n",
        "h. Monitoring and Debugging: Detecting and diagnosing memory issues requires specialized tools and techniques, such as memory profilers (tracemalloc, objgraph) or application performance monitoring (APM) tools, which may not be familiar to all developers.\n",
        "\n",
        "24. How do you raise an exception manually in Python?\n",
        "\n",
        "\n",
        "\n",
        "*   You can raise an exception manually in Python using the raise statement. This allows you to signal an error or unusual condition in your program, interrupting the normal flow and optionally providing a custom error message.\n",
        "*   Syntax:\n",
        "\n",
        "          raise ExceptionType(\"Error message\")\n",
        "\n",
        "25.Why is it important to use multithreading in certain applications?\n",
        "\n",
        "\n",
        "\n",
        "*   Multithreading is important in certain applications because it enables programs to handle multiple tasks concurrently, improving performance, responsiveness, and resource utilization, especially for I/O-bound and real-time operations.\n",
        "\n",
        "\n",
        "\n",
        "\n",
        "\n",
        "\n",
        "\n",
        "\n",
        "\n",
        "\n",
        "\n",
        "\n",
        "\n",
        "\n",
        "\n",
        "\n",
        "\n",
        "\n",
        "\n",
        "\n",
        "\n",
        "\n",
        "\n",
        "\n",
        "\n",
        "\n",
        "\n",
        "\n",
        "\n",
        "\n",
        "\n",
        "\n",
        "\n",
        "\n",
        "\n",
        "\n",
        "\n",
        "\n",
        "\n",
        "\n",
        "\n",
        "\n",
        "\n",
        "\n",
        "\n",
        "\n",
        "\n",
        "\n",
        "\n",
        "\n",
        "\n",
        "\n",
        "\n",
        "\n",
        "\n",
        "\n",
        "\n",
        "\n",
        "\n",
        "\n",
        "\n",
        "\n",
        "\n",
        "\n",
        "\n",
        "\n",
        "\n"
      ],
      "metadata": {
        "id": "Yp_K46JqKohI"
      }
    },
    {
      "cell_type": "markdown",
      "source": [
        "1.How can you open a file for writing in Python and write a string to it?"
      ],
      "metadata": {
        "id": "fGFlqg7htuam"
      }
    },
    {
      "cell_type": "code",
      "source": [
        "with open(\"example.txt\", \"w\") as file:\n",
        "    file.write(\"Hello, world!\")\n"
      ],
      "metadata": {
        "id": "6qslBYq9tc_1"
      },
      "execution_count": null,
      "outputs": []
    },
    {
      "cell_type": "markdown",
      "source": [
        "2.Write a Python program to read the contents of a file and print each line."
      ],
      "metadata": {
        "id": "qGFL5ZqDttBQ"
      }
    },
    {
      "cell_type": "code",
      "source": [
        "\n",
        "with open('filename.txt', 'r') as file:\n",
        "    for line in file:\n",
        "        print(line, end='')\n"
      ],
      "metadata": {
        "id": "WFCMYiENuL4U"
      },
      "execution_count": null,
      "outputs": []
    },
    {
      "cell_type": "markdown",
      "source": [
        "3.How would you handle a case where the file doesn't exist while trying to open it for reading?\n",
        "\n",
        "To handle the case where a file does not exist while trying to open it for reading in Python, you can use exception handling with a try-except block to catch the FileNotFoundError. This prevents your program from crashing and allows you to respond gracefully, such as by displaying an error message.\n"
      ],
      "metadata": {
        "id": "PVBtjjd-wQlF"
      }
    },
    {
      "cell_type": "code",
      "source": [
        "filename = 'nonexistent_file.txt'\n",
        "\n",
        "try:\n",
        "    with open(filename, 'r') as file:\n",
        "        for line in file:\n",
        "            print(line, end='')\n",
        "except FileNotFoundError:\n",
        "    print(f\"Error: The file '{filename}' does not exist.\")\n"
      ],
      "metadata": {
        "id": "NKkvIFDDwZIS"
      },
      "execution_count": null,
      "outputs": []
    },
    {
      "cell_type": "markdown",
      "source": [
        "4.Write a Python script that reads from one file and writes its content to another file."
      ],
      "metadata": {
        "id": "d9zrkeaLV0mU"
      }
    },
    {
      "cell_type": "code",
      "source": [
        "\n",
        "source_file = 'source.txt'\n",
        "destination_file = 'destination.txt'\n",
        "\n",
        "try:\n",
        "    # Open the source file in read mode and destination file in write mode\n",
        "    with open(source_file, 'r') as src, open(destination_file, 'w') as dest:\n",
        "        for line in src:\n",
        "            dest.write(line)\n",
        "    print(f\"Content copied from '{source_file}' to '{destination_file}' successfully.\")\n",
        "except FileNotFoundError:\n",
        "    print(f\"Error: The file '{source_file}' does not exist.\")\n",
        "except IOError as e:\n",
        "    print(f\"An I/O error occurred: {e}\")\n"
      ],
      "metadata": {
        "id": "SacQaxUrV6Sy"
      },
      "execution_count": null,
      "outputs": []
    },
    {
      "cell_type": "markdown",
      "source": [
        "5.How would you catch and handle division by zero error in Python?\n",
        "\n",
        "To catch and handle a division by zero error in Python, you use a try-except block to catch the ZeroDivisionError exception. This allows your program to respond gracefully instead of crashing.\n",
        "\n",
        "Example:"
      ],
      "metadata": {
        "id": "PBP4_x02WVCe"
      }
    },
    {
      "cell_type": "code",
      "source": [
        "def divide_numbers(x, y):\n",
        "    try:\n",
        "        result = x / y\n",
        "        print(\"Result:\", result)\n",
        "    except ZeroDivisionError:\n",
        "        print(\"The division by zero operation is not allowed.\")\n",
        "\n",
        "\n",
        "numerator = 100\n",
        "denominator = 0\n",
        "divide_numbers(numerator, denominator)\n"
      ],
      "metadata": {
        "id": "i1DMydVuWcua"
      },
      "execution_count": null,
      "outputs": []
    },
    {
      "cell_type": "markdown",
      "source": [
        "6.Write a Python program that logs an error message to a log file when a division by zero exception occurs.\n"
      ],
      "metadata": {
        "id": "H5EItbSPW6OD"
      }
    },
    {
      "cell_type": "code",
      "source": [
        "import logging\n",
        "\n",
        "logging.basicConfig(\n",
        "    filename='error.log',\n",
        "    level=logging.ERROR,\n",
        "    format='%(asctime)s - %(levelname)s - %(message)s'\n",
        ")\n",
        "\n",
        "def divide(x, y):\n",
        "    try:\n",
        "        result = x / y\n",
        "        print(f\"Result: {result}\")\n",
        "    except ZeroDivisionError:\n",
        "        logging.error(\"Division by zero error occurred when dividing %s by %s\", x, y)\n",
        "        print(\"Error: Cannot divide by zero. Check the log file for details.\")\n",
        "\n",
        "\n",
        "divide(10, 0)\n"
      ],
      "metadata": {
        "id": "RJe4npt_XCWy"
      },
      "execution_count": null,
      "outputs": []
    },
    {
      "cell_type": "markdown",
      "source": [
        "7. How do you log information at different levels (INFO, ERROR, WARNING) in Python using the logging module?"
      ],
      "metadata": {
        "id": "3DQuyWlvXa7P"
      }
    },
    {
      "cell_type": "code",
      "source": [
        "import logging\n",
        "\n",
        "logging.basicConfig(\n",
        "    level=logging.DEBUG,\n",
        "    format='%(asctime)s - %(levelname)s - %(message)s'\n",
        ")\n",
        "\n",
        "\n",
        "logging.info(\"This is an informational message.\")\n",
        "logging.warning(\"This is a warning message.\")\n",
        "logging.error(\"This is an error message.\")\n"
      ],
      "metadata": {
        "id": "4YiS4FXhdOMm"
      },
      "execution_count": null,
      "outputs": []
    },
    {
      "cell_type": "markdown",
      "source": [
        "8.Write a program to handle a file opening error using exception handling."
      ],
      "metadata": {
        "id": "c-ySk7a4dYiN"
      }
    },
    {
      "cell_type": "code",
      "source": [
        "def open_file(filename):\n",
        "    try:\n",
        "        with open(filename, 'r') as file:\n",
        "            content = file.read()\n",
        "            print(\"File contents:\")\n",
        "            print(content)\n",
        "    except FileNotFoundError:\n",
        "        print(f\"Error: The file '{filename}' was not found.\")\n",
        "    except IOError:\n",
        "        print(f\"An error occurred while reading the file '{filename}'.\")\n",
        "\n",
        "file_name = input(\"Enter the file name to open: \")\n",
        "open_file(file_name)\n"
      ],
      "metadata": {
        "id": "pmvURHH5deq3"
      },
      "execution_count": null,
      "outputs": []
    },
    {
      "cell_type": "markdown",
      "source": [
        "9.How can you read a file line by line and store its content in a list in Python?"
      ],
      "metadata": {
        "id": "dGoNbtFVd4ns"
      }
    },
    {
      "cell_type": "code",
      "source": [
        "with open('filename.txt', 'r') as file:\n",
        "    lines = [line.rstrip('\\n') for line in file.readlines()]\n",
        "\n",
        "print(lines)\n"
      ],
      "metadata": {
        "id": "dfTicJ6feAFv"
      },
      "execution_count": null,
      "outputs": []
    },
    {
      "cell_type": "markdown",
      "source": [
        "10.How can you append data to an existing file in Python?"
      ],
      "metadata": {
        "id": "x0oiF6DNew1Y"
      }
    },
    {
      "cell_type": "code",
      "source": [
        "with open('example.txt', 'a') as file:\n",
        "    file.write(\"This line will be appended to the file.\\n\")\n"
      ],
      "metadata": {
        "id": "O633pdRWe2oq"
      },
      "execution_count": null,
      "outputs": []
    },
    {
      "cell_type": "markdown",
      "source": [
        "11.Write a Python program that uses a try-except block to handle an error when attempting to access a\n",
        "dictionary key that doesn't exist."
      ],
      "metadata": {
        "id": "IfCcErtLfE74"
      }
    },
    {
      "cell_type": "code",
      "source": [
        "# Sample dictionary\n",
        "person_info = {\n",
        "    'name': 'Satyam Tripathi',\n",
        "    'age': 22,\n",
        "    'city': 'Delhi, Bharat',\n",
        "    'occupation': 'Freelance Writer',\n",
        "    'is_student': False\n",
        "}\n",
        "\n",
        "# Take input from user for the key to access\n",
        "user_input = input(\"Enter the key to search in the dictionary: \")\n",
        "\n",
        "try:\n",
        "    # Try to access the dictionary key\n",
        "    value = person_info[user_input]\n",
        "    print(f\"Great, item found. The value for '{user_input}' is: {value}\")\n",
        "except KeyError:\n",
        "    # Handle the case where the key does not exist\n",
        "    print(f\"Alert: The key '{user_input}' was not found in the dictionary.\")\n",
        "    print(\"Try searching by one of these keys:\", ', '.join(person_info.keys()))\n"
      ],
      "metadata": {
        "id": "AIk7XfFffMa-"
      },
      "execution_count": null,
      "outputs": []
    },
    {
      "cell_type": "markdown",
      "source": [
        "12.Write a program that demonstrates using multiple except blocks to handle different types of exceptions.\n"
      ],
      "metadata": {
        "id": "uTKEdKRsgqD8"
      }
    },
    {
      "cell_type": "code",
      "source": [
        "def divide_and_access_element(num_list, index, divisor):\n",
        "    try:\n",
        "        # Attempt division\n",
        "        result = 10 / divisor\n",
        "        print(f\"Division result: {result}\")\n",
        "\n",
        "        # Attempt to access list element\n",
        "        element = num_list[index]\n",
        "        print(f\"Element at index {index}: {element}\")\n",
        "\n",
        "    except ZeroDivisionError:\n",
        "        print(\"Error: Division by zero is not allowed.\")\n",
        "\n",
        "    except IndexError:\n",
        "        print(\"Error: List index out of range.\")\n",
        "\n",
        "    except TypeError:\n",
        "        print(\"Error: Invalid data type provided.\")\n",
        "\n",
        "    except Exception as e:\n",
        "        # Catch any other exceptions\n",
        "        print(f\"An unexpected error occurred: {e}\")\n",
        "\n",
        "# Example usage\n",
        "numbers = [1, 2, 3, 4, 5]\n",
        "\n",
        "# Test cases\n",
        "print(\"Test case 1:\")\n",
        "divide_and_access_element(numbers, 2, 0)  # Division by zero\n",
        "\n",
        "print(\"\\nTest case 2:\")\n",
        "divide_and_access_element(numbers, 10, 2)  # Index out of range\n",
        "\n",
        "print(\"\\nTest case 3:\")\n",
        "divide_and_access_element(numbers, 1, 'a')  # Type error (divisor is string)\n"
      ],
      "metadata": {
        "id": "3q01FvpXgyeJ"
      },
      "execution_count": null,
      "outputs": []
    },
    {
      "cell_type": "markdown",
      "source": [
        "13.How would you check if a file exists before attempting to read it in Python?"
      ],
      "metadata": {
        "id": "8IbnYDvbhepI"
      }
    },
    {
      "cell_type": "code",
      "source": [
        "import os\n",
        "\n",
        "file_path = 'example.txt'\n",
        "\n",
        "if os.path.isfile(file_path):\n",
        "    print(\"File exists and is ready to be read.\")\n",
        "    with open(file_path, 'r') as file:\n",
        "        content = file.read()\n",
        "        print(content)\n",
        "else:\n",
        "    print(\"File does not exist.\")\n"
      ],
      "metadata": {
        "id": "fyYqfvJwhkmP"
      },
      "execution_count": null,
      "outputs": []
    },
    {
      "cell_type": "markdown",
      "source": [
        "14.Write a program that uses the logging module to log both informational and error messages."
      ],
      "metadata": {
        "id": "lwXNgdo9hz9s"
      }
    },
    {
      "cell_type": "code",
      "source": [
        "import logging\n",
        "\n",
        "logging.basicConfig(\n",
        "    filename='app.log',\n",
        "    level=logging.INFO,\n",
        "    format='%(asctime)s - %(levelname)s - %(message)s'\n",
        ")\n",
        "\n",
        "def divide(x, y):\n",
        "    try:\n",
        "        result = x / y\n",
        "        logging.info(f\"Division successful: {x} / {y} = {result}\")\n",
        "        print(f\"Result: {result}\")\n",
        "    except ZeroDivisionError:\n",
        "        logging.error(f\"Error: Division by zero attempted with values {x} and {y}\")\n",
        "        print(\"Error: Cannot divide by zero.\")\n",
        "\n",
        "divide(10, 2)  # This will log an INFO message\n",
        "divide(10, 0)  # This will log an ERROR message\n"
      ],
      "metadata": {
        "id": "sgVWc6Hrh6ei"
      },
      "execution_count": null,
      "outputs": []
    },
    {
      "cell_type": "markdown",
      "source": [
        "15.Write a Python program that prints the content of a file and handles the case when the file is empty."
      ],
      "metadata": {
        "id": "ohVljSRpkaqy"
      }
    },
    {
      "cell_type": "code",
      "source": [
        "def print_file_content(filename):\n",
        "    try:\n",
        "        with open(filename, 'r') as file:\n",
        "            content = file.read()\n",
        "            if content:\n",
        "                print(\"File contents:\")\n",
        "                print(content)\n",
        "            else:\n",
        "                print(\"The file is empty.\")\n",
        "    except FileNotFoundError:\n",
        "        print(f\"Error: The file '{filename}' does not exist.\")\n",
        "    except IOError as e:\n",
        "        print(f\"An I/O error occurred: {e}\")\n",
        "\n",
        "\n",
        "file_name = input(\"Enter the filename to read: \")\n",
        "print_file_content(file_name)\n"
      ],
      "metadata": {
        "id": "kC8mRnDrkgv5"
      },
      "execution_count": null,
      "outputs": []
    },
    {
      "cell_type": "markdown",
      "source": [
        "16.Demonstrate how to use memory profiling to check the memory usage of a small program."
      ],
      "metadata": {
        "id": "0aiMVzCbkrGg"
      }
    },
    {
      "cell_type": "markdown",
      "source": [
        "  \n",
        "\n",
        "* To perform memory profiling in Python and check the memory usage of a\n",
        "small program, a popular and easy-to-use tool is the memory_profiler module. It provides a line-by-line breakdown of memory consumption, helping you identify which parts of your code use the most memory.\n",
        "\n",
        "Steps to use memory_profiler:\n",
        "\n",
        "1.Install the module (if not already installed):\n",
        "\n",
        "     pip install memory_profiler\n",
        "\n",
        "2.Add the @profile decorator to the function you want to profile.\n",
        "\n",
        "3.Run your script with memory profiling enabled.\n",
        "\n",
        "Example:\n"
      ],
      "metadata": {
        "id": "OUsOygDvmq42"
      }
    },
    {
      "cell_type": "code",
      "source": [
        "from memory_profiler import profile\n",
        "\n",
        "@profile\n",
        "def allocate_memory():\n",
        "    a = [i for i in range(100000)]          # Allocate a list of numbers\n",
        "    b = [i ** 2 for i in range(100000)]     # Allocate a list of squares\n",
        "    return a, b\n",
        "\n",
        "if __name__ == \"__main__\":\n",
        "    allocate_memory()\n"
      ],
      "metadata": {
        "id": "tDiLwE_UkyIk"
      },
      "execution_count": null,
      "outputs": []
    },
    {
      "cell_type": "markdown",
      "source": [
        "How to run the profiler:\n",
        "\n",
        "Run your Python script with the -m memory_profiler option from the command line:\n",
        "\n",
        "python -m memory_profiler your_script.py\n"
      ],
      "metadata": {
        "id": "gnj6-Utsn3IJ"
      }
    },
    {
      "cell_type": "markdown",
      "source": [
        "17.Write a Python program to create and write a list of numbers to a file, one number per line."
      ],
      "metadata": {
        "id": "0u9npY0doBqO"
      }
    },
    {
      "cell_type": "code",
      "source": [
        "# List of numbers to write\n",
        "numbers = [1, 2, 3, 4, 5, 6, 7, 8, 9, 10]\n",
        "\n",
        "# File to write to\n",
        "filename = 'numbers.txt'\n",
        "\n",
        "# Open the file in write mode and write each number on a new line\n",
        "with open(filename, 'w') as file:\n",
        "    for number in numbers:\n",
        "        file.write(f\"{number}\\n\")\n",
        "\n",
        "print(f\"Numbers have been written to '{filename}' successfully.\")\n"
      ],
      "metadata": {
        "id": "n-J9of8tn_4f"
      },
      "execution_count": null,
      "outputs": []
    },
    {
      "cell_type": "markdown",
      "source": [
        "18.How would you implement a basic logging setup that logs to a file with rotation after 1MB?"
      ],
      "metadata": {
        "id": "aM1HWwlYoZDP"
      }
    },
    {
      "cell_type": "code",
      "source": [
        "import logging\n",
        "from logging.handlers import RotatingFileHandler\n",
        "\n",
        "# Create a logger\n",
        "logger = logging.getLogger('MyLogger')\n",
        "logger.setLevel(logging.DEBUG)  # Set minimum log level\n",
        "\n",
        "# Create a rotating file handler\n",
        "handler = RotatingFileHandler(\n",
        "    'app.log',          # Log file name\n",
        "    maxBytes=1_000_000, # Rotate after 1MB (1,000,000 bytes)\n",
        "    backupCount=3       # Keep up to 3 backup files (app.log.1, app.log.2, ...)\n",
        ")\n",
        "\n",
        "# Create a log message formatter and set it for the handler\n",
        "formatter = logging.Formatter('%(asctime)s - %(levelname)s - %(message)s')\n",
        "handler.setFormatter(formatter)\n",
        "\n",
        "# Add the handler to the logger\n",
        "logger.addHandler(handler)\n",
        "\n",
        "# Example usage\n",
        "logger.info(\"This is an informational message.\")\n",
        "logger.error(\"This is an error message.\")\n"
      ],
      "metadata": {
        "id": "vJQ7NfW8ogIL"
      },
      "execution_count": null,
      "outputs": []
    },
    {
      "cell_type": "markdown",
      "source": [
        "19.Write a program that handles both IndexError and KeyError using a try-except block."
      ],
      "metadata": {
        "id": "7ZC1Igewqsr4"
      }
    },
    {
      "cell_type": "code",
      "source": [
        "\n",
        "my_list = [10, 20, 30]\n",
        "my_dict = {\"name\": \"apple\", \"color\": \"red\"}\n",
        "\n",
        "def access_elements(list_index, dict_key):\n",
        "    try:\n",
        "        # Attempt to access list element by index\n",
        "        print(f\"List element at index {list_index}: {my_list[list_index]}\")\n",
        "\n",
        "        # Attempt to access dictionary value by key\n",
        "        print(f\"Dictionary value for key '{dict_key}': {my_dict[dict_key]}\")\n",
        "\n",
        "    except IndexError as e:\n",
        "        print(f\"IndexError caught: {e} (list index out of range)\")\n",
        "\n",
        "    except KeyError as e:\n",
        "        print(f\"KeyError caught: {e} (dictionary key not found)\")\n",
        "\n",
        "\n",
        "access_elements(1, \"color\")     # Valid access\n",
        "access_elements(5, \"color\")     # IndexError\n",
        "access_elements(1, \"price\")     # KeyError\n"
      ],
      "metadata": {
        "id": "K3pL1RyMqyLS"
      },
      "execution_count": null,
      "outputs": []
    },
    {
      "cell_type": "markdown",
      "source": [
        "20.How would you open a file and read its contents using a context manager in Python?\n",
        "\n",
        "\n",
        "\n",
        "*   To open a file and read its contents using a context manager in Python, you use the built-in open() function inside a with statement. This ensures the file is properly closed after its contents are read, even if an error occurs.\n",
        "\n"
      ],
      "metadata": {
        "id": "wo_uuhZorHo8"
      }
    },
    {
      "cell_type": "code",
      "source": [
        "filename = 'example.txt'\n",
        "\n",
        "with open(filename, 'r') as file:\n",
        "    content = file.read()\n",
        "    print(content)\n"
      ],
      "metadata": {
        "id": "DPYjuSfcrNzD"
      },
      "execution_count": null,
      "outputs": []
    },
    {
      "cell_type": "markdown",
      "source": [
        "21.Write a Python program that reads a file and prints the number of occurrences of a specific word.\n"
      ],
      "metadata": {
        "id": "1ZzmgsRJrmf9"
      }
    },
    {
      "cell_type": "code",
      "source": [
        "def count_word_occurrences(filename, target_word):\n",
        "    try:\n",
        "        with open(filename, 'r') as file:\n",
        "            content = file.read().lower()  # Convert content to lowercase for case-insensitive matching\n",
        "            target_word = target_word.lower()\n",
        "\n",
        "            # Split content into words\n",
        "            words = content.split()\n",
        "\n",
        "            # Count occurrences\n",
        "            count = words.count(target_word)\n",
        "\n",
        "            print(f\"The word '{target_word}' occurs {count} time(s) in the file '{filename}'.\")\n",
        "    except FileNotFoundError:\n",
        "        print(f\"Error: The file '{filename}' does not exist.\")\n",
        "    except IOError as e:\n",
        "        print(f\"An I/O error occurred: {e}\")\n",
        "\n",
        "\n",
        "file_name = input(\"Enter the filename: \")\n",
        "word_to_count = input(\"Enter the word to count: \")\n",
        "count_word_occurrences(file_name, word_to_count)\n"
      ],
      "metadata": {
        "id": "Wokiz_bVrtKk"
      },
      "execution_count": null,
      "outputs": []
    },
    {
      "cell_type": "markdown",
      "source": [
        "22. How can you check if a file is empty before attempting to read its contents?"
      ],
      "metadata": {
        "id": "-pNy_9yRr3ei"
      }
    },
    {
      "cell_type": "code",
      "source": [
        "file_path = 'example.txt'\n",
        "\n",
        "try:\n",
        "    with open(file_path, 'r') as file:\n",
        "        first_char = file.read(1)\n",
        "        if not first_char:\n",
        "            print(\"File is empty.\")\n",
        "        else:\n",
        "            print(\"File is not empty.\")\n",
        "except FileNotFoundError:\n",
        "    print(\"File does not exist.\")\n"
      ],
      "metadata": {
        "id": "YwkgOXikr8Qw"
      },
      "execution_count": null,
      "outputs": []
    },
    {
      "cell_type": "markdown",
      "source": [
        "23.Write a Python program that writes to a log file when an error occurs during file handling."
      ],
      "metadata": {
        "id": "CNGrl-YGsQey"
      }
    },
    {
      "cell_type": "code",
      "source": [
        "import logging\n",
        "\n",
        "logging.basicConfig(\n",
        "    filename='file_errors.log',\n",
        "    level=logging.ERROR,\n",
        "    format='%(asctime)s - %(levelname)s - %(message)s'\n",
        ")\n",
        "\n",
        "def read_file(filename):\n",
        "    try:\n",
        "        with open(filename, 'r') as file:\n",
        "            content = file.read()\n",
        "            print(\"File content:\")\n",
        "            print(content)\n",
        "    except Exception as e:\n",
        "        # Log the exception with traceback information\n",
        "        logging.exception(f\"Error occurred while handling the file '{filename}': {e}\")\n",
        "        print(f\"An error occurred while processing the file '{filename}'. Check the log for details.\")\n",
        "\n",
        "\n",
        "file_name = input(\"Enter the filename to read: \")\n",
        "read_file(file_name)\n"
      ],
      "metadata": {
        "id": "9xZrYuAesV07"
      },
      "execution_count": null,
      "outputs": []
    }
  ]
}